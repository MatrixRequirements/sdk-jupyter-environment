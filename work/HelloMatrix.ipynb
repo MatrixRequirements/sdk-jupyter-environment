{
 "cells": [
  {
   "cell_type": "code",
   "execution_count": 1,
   "id": "ccb78072-e287-4e35-9a0e-4f01ed511870",
   "metadata": {},
   "outputs": [
    {
     "data": {
      "text/plain": [
       "Promise { <pending> }"
      ]
     },
     "execution_count": 1,
     "metadata": {},
     "output_type": "execute_result"
    },
    {
     "name": "stdout",
     "output_type": "stream",
     "text": [
      "AAAA, ABase, ALM2, ALMSandbox, AM, AMB, BASE_FOR_TC_298, BASE_FOR_TC_408, BASE_QMS, BASE_REVIEW, BASE_SCALE, BASE_TRACES, BASE_TRACE_TC_299, BASE_UC38, BBBB, BFolder, BRIGHTINSIGHT_BULK, BRIGHTINSIGHT_CLEAN, BSI, CAPA, CAPADATA, COPY, CPL2, DEMO_HWSW, DL1, DOCDraftObsolete, ELEM_HW, EMPTY, EscapingHell, FEAT719A, FEAT719B, FEAT759, GR, HR_FILE, INSULINEPEN, INSULINEPEN_SDK, Jonas_Test, LABELISSUE, LazyQMS, MATRIX4233, MATRIX_4406_BRANCH, MATRIX_4406_MAIN, MATRIX_4482, MATRIX_4482_B1, MATRIX4590, MATRIX4590NoClean, MATRIX4613, MATRIX4662, MATRIX4704, MBASE, MBASE_B1, MECA, MER2, MPL, MUBR, MUBR_B1, MUBR_B1_C1, MyWheely, P62304, PHOEN, PREM, PRINT, PRINT_ORG, PRINTUSE, PSTORE, P_TC_10_20231003070949, P_TC_10_20231003071029, QMS, QMS_FILE, QMS_HEADERCHECK, QMSNotification, RA_XTC_1949_001, RB_TEST_UC_LABELS, RB_UC_BRANCH1, RB_UC_BRANCH2, RB_UC_BRANCHING, RB_UC_TEST, RED, REDTEST, RISK1E5, RISK1E5_MOD, Risk4Aranud, RiskControlAsTable, Scrambled, SER14824, SER14885, SER14929, SER15487, SER16658, SER17954, SER18447, SER19001, SER19043, SER_19050, SER19814, SER19937, SER19938, SER20091, SER_24433_MIKE, SIGNREJECT, SP_W4, SP_WH5, SP_WL4, ST_CAP1, ST_CPL1, ST_CPL2, ST_W1, ST_W6, TC214, TC214_B, TC252, TC280, TC288, TC292, TC296, TC_297, TC297, TC_298, TC305, TC318, TC321, TC_347, TCT, TEST, TEST00, TEST_B1, TEST_B2, TEST_DOC_01_RB, TEST_DOC_2_RB, TEST_DOC_CREATION, TESTFCH, TESTING_PRINT, TEST_UC_8, TILMAN_CONF_SYNC, TILMAN_TEST, TOOLS, TOOLS_EX23, TraceClone, TS_STYLING_TEST, UC38, UC38B, UNDERSCORE_1, VALID_NOFILES, WC, WCF, WDR, WFINAL, WHEELY, WHEELY_CLEAN, WHEELY_CLIENT_TESTS, WHEELY_FRANCOIS, WHEELY_IUNIA, WHEELY_LOWUSER, WHEELY_MIKE, WHEELY_OBSERVABLE, WHEELY_SIARHEI, WHEELY_TILMAN, WHEELY_Y2, WHEELY_YVES, WH_TC_298, WINTER, YB_BR1, YB_CLONE_WITH, YB_CLONE_WITHOUT, YBIMPORT, YBIMPORT_BR1, YBIMPORT_BR2, YBIMPORT_BR3, YBIMPORT_BR6, YB_MOVANO, YB_PLANTURL\n"
     ]
    }
   ],
   "source": [
    "// Load the matrix requirements sdk.\n",
    "const sdk = require('matrix-requirements-sdk/server');\n",
    "\n",
    "// Securely connect to a server with stored credentials\n",
    "function createConnectionObject(filename, key) {\n",
    "    const fs = require(\"fs\");\n",
    "    const db = JSON.parse(fs.readFileSync(filename, \"utf-8\"));\n",
    "    return db[key];\n",
    "}\n",
    "const credentialsFilename = \"./credentials.json\";\n",
    "const server = await sdk.createConsoleAPI(\n",
    "    createConnectionObject(credentialsFilename, \"clouds5\"));\n",
    "\n",
    "// List the projects available on this server:\n",
    "console.log((await server.getProjects()).join(\", \"));"
   ]
  },
  {
   "cell_type": "code",
   "execution_count": null,
   "id": "0553b062-c459-46ab-8ccd-d0b8fcc0a7be",
   "metadata": {},
   "outputs": [],
   "source": []
  }
 ],
 "metadata": {
  "kernelspec": {
   "display_name": "JavaScript (Node.js)",
   "language": "javascript",
   "name": "javascript"
  },
  "language_info": {
   "file_extension": ".js",
   "mimetype": "application/javascript",
   "name": "javascript",
   "version": "20.9.0"
  }
 },
 "nbformat": 4,
 "nbformat_minor": 5
}
